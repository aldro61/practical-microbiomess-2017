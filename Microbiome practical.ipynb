{
 "cells": [
  {
   "cell_type": "markdown",
   "metadata": {},
   "source": [
    "# Phenotype generation"
   ]
  },
  {
   "cell_type": "code",
   "execution_count": 1,
   "metadata": {
    "collapsed": false
   },
   "outputs": [
    {
     "name": "stdout",
     "output_type": "stream",
     "text": [
      "Populating the interactive namespace from numpy and matplotlib\n"
     ]
    }
   ],
   "source": [
    "%pylab inline"
   ]
  },
  {
   "cell_type": "code",
   "execution_count": 25,
   "metadata": {
    "collapsed": true
   },
   "outputs": [],
   "source": [
    "ped = np.loadtxt(\"data/hapmap1.ped\", usecols=xrange(6, 167074), dtype=int)"
   ]
  },
  {
   "cell_type": "code",
   "execution_count": 75,
   "metadata": {
    "collapsed": false
   },
   "outputs": [
    {
     "name": "stdout",
     "output_type": "stream",
     "text": [
      "[860, 6265, 15795, 37194, 41090, 44131, 60263, 67221, 76820, 82386]\n"
     ]
    }
   ],
   "source": [
    "# randomly pick 10 SNPs to be causal\n",
    "np.random.seed(42)\n",
    "#causal_SNPs = list(np.random.randint(0, high=83534, size=10))\n",
    "#causal_SNPs.sort()\n",
    "#print causal_SNPs\n",
    "\n",
    "causal_SNPs = set([])\n",
    "while len(causal_SNPs) < 10:\n",
    "    idx = np.random.randint(0, high=83534)\n",
    "    if not len(np.where(ped[:, 2*idx]==0)[0]):\n",
    "            causal_SNPs.add(idx)\n",
    "causal_SNPs = list(causal_SNPs)\n",
    "causal_SNPs.sort()\n",
    "\n",
    "print causal_SNPs"
   ]
  },
  {
   "cell_type": "code",
   "execution_count": 117,
   "metadata": {
    "collapsed": false
   },
   "outputs": [
    {
     "name": "stdout",
     "output_type": "stream",
     "text": [
      "['0.497', '-0.138', '0.648', '1.523', '-0.234', '-0.234', '1.579', '0.767', '-0.469']\n"
     ]
    }
   ],
   "source": [
    "# randomly pick 9 causal weights (SNP0 and SNP2 will be in epistasis)\n",
    "np.random.seed(42)\n",
    "#causal_weights = np.random.uniform(low=-2., high=2., size=9)\n",
    "causal_weights = np.random.normal(size=9)\n",
    "print [\"%.3f\" % w for w in causal_weights]"
   ]
  },
  {
   "cell_type": "code",
   "execution_count": 82,
   "metadata": {
    "collapsed": false
   },
   "outputs": [
    {
     "name": "stdout",
     "output_type": "stream",
     "text": [
      "(89, 167068)\n",
      "(89, 10)\n"
     ]
    }
   ],
   "source": [
    "# transform ped into only causal features\n",
    "print ped.shape\n",
    "causal_X = np.array([4-(ped[:, idx*2]+ped[:, idx*2+1]) for idx in causal_SNPs]).T\n",
    "print causal_X.shape"
   ]
  },
  {
   "cell_type": "code",
   "execution_count": 84,
   "metadata": {
    "collapsed": false
   },
   "outputs": [],
   "source": [
    "causal_X[:, 0] = causal_X[:, 0]*causal_X[:, 2]"
   ]
  },
  {
   "cell_type": "code",
   "execution_count": 86,
   "metadata": {
    "collapsed": false
   },
   "outputs": [
    {
     "name": "stdout",
     "output_type": "stream",
     "text": [
      "(89, 9)\n"
     ]
    }
   ],
   "source": [
    "causal_X = np.delete(causal_X, 2, 1)\n",
    "print causal_X.shape"
   ]
  },
  {
   "cell_type": "code",
   "execution_count": 119,
   "metadata": {
    "collapsed": false
   },
   "outputs": [
    {
     "name": "stdout",
     "output_type": "stream",
     "text": [
      "(89,)\n"
     ]
    }
   ],
   "source": [
    "y = np.dot(causal_X, causal_weights)\n",
    "print y.shape"
   ]
  },
  {
   "cell_type": "code",
   "execution_count": 120,
   "metadata": {
    "collapsed": false
   },
   "outputs": [
    {
     "name": "stdout",
     "output_type": "stream",
     "text": [
      "[ 0.44173171  0.79332073  0.38501709  0.70615566  0.33101203  0.56526568\n",
      "  0.5         0.38501709  0.86315833  0.28134876  0.51624204  0.75229799\n",
      "  0.56526568  0.62834458  0.38502098  0.33127065  0.50710137  0.38501709\n",
      "  0.56526568  0.38502487  0.56526972  0.50710548  0.62168683  0.35284553\n",
      "  0.68296571  0.44172766  0.79332073  0.44172766  0.68296571  0.56526568\n",
      "  0.38501709  0.38501709  0.44172766  0.73691502  0.45752016  0.75230105\n",
      "  0.44172766  0.79332073  0.5         0.44172766  0.70615225  0.70615225\n",
      "  0.68908437  0.3310084   0.50710137  0.28135208  0.91201613  0.44172766\n",
      "  0.57223716  0.56526568  0.5         0.23650846  0.62168683  0.40795696\n",
      "  0.38502098  0.68119629  0.38501709  0.63024811  0.5         0.44875231\n",
      "  0.38501709  0.56526568  0.57223716  0.44172766  0.44173171  0.44172766\n",
      "  0.38501709  0.75229799  0.38501709  0.44173171  0.56526568  0.51420808\n",
      "  0.5         0.38501709  0.62834458  0.94903334  0.62168683  0.38501709\n",
      "  0.86315833  0.38501709  0.51624204  0.38502098  0.38502098  0.50710548\n",
      "  0.44172766  0.3310084   0.83308072  0.44172766  0.33127065]\n"
     ]
    },
    {
     "data": {
      "image/png": "[encoded data removed]",
      "text/plain": [
       "<matplotlib.figure.Figure at 0x7f2fcd5b7e90>"
      ]
     },
     "metadata": {},
     "output_type": "display_data"
    }
   ],
   "source": [
    "p = np.exp(y)/(np.exp(y)+1)\n",
    "hist(p)\n",
    "print p"
   ]
  },
  {
   "cell_type": "code",
   "execution_count": 123,
   "metadata": {
    "collapsed": true
   },
   "outputs": [],
   "source": [
    "phe = p>0.5"
   ]
  },
  {
   "cell_type": "code",
   "execution_count": 124,
   "metadata": {
    "collapsed": false
   },
   "outputs": [
    {
     "name": "stdout",
     "output_type": "stream",
     "text": [
      "42\n"
     ]
    }
   ],
   "source": [
    "phe = np.array(phe, dtype=int)\n",
    "print np.sum(phe)"
   ]
  },
  {
   "cell_type": "code",
   "execution_count": 139,
   "metadata": {
    "collapsed": false
   },
   "outputs": [],
   "source": [
    "# Read sample names\n",
    "sample_names = np.loadtxt('data/qt.phe', usecols=0, dtype='S')"
   ]
  },
  {
   "cell_type": "code",
   "execution_count": 140,
   "metadata": {
    "collapsed": false
   },
   "outputs": [],
   "source": [
    "# Write phenotype file\n",
    "np.savetxt('data/phenotype.phe',\n",
    "           np.vstack((sample_names, np.array(np.ones(89, ), dtype='int'), phe+1)).T,\n",
    "           fmt='%s %s %s')"
   ]
  },
  {
   "cell_type": "markdown",
   "metadata": {},
   "source": [
    "Recode the phenotype in the .ped file\n",
    "  \n",
    "```\n",
    "plink --file hapmap1 --pheno phenotype.phe --recode --noweb\n",
    "mv plink.ped simulated.ped\n",
    "mv plink.map simulated.ped\n",
    "```"
   ]
  },
  {
   "cell_type": "markdown",
   "metadata": {},
   "source": [
    "## Names of causal SNPs"
   ]
  },
  {
   "cell_type": "code",
   "execution_count": 2,
   "metadata": {
    "collapsed": true
   },
   "outputs": [],
   "source": [
    "causal_SNPs = [860, 6265, 15795, 37194, 41090, 44131, 60263, 67221, 76820, 82386]"
   ]
  },
  {
   "cell_type": "code",
   "execution_count": 4,
   "metadata": {
    "collapsed": true
   },
   "outputs": [],
   "source": [
    "causal_weights = [float(w) for w in ['0.497', '-0.138', '0.648', '1.523', '-0.234', '-0.234', '1.579', '0.767', '-0.469']]"
   ]
  },
  {
   "cell_type": "markdown",
   "metadata": {},
   "source": [
    "Names of causal SNPs?"
   ]
  },
  {
   "cell_type": "code",
   "execution_count": 5,
   "metadata": {
    "collapsed": true
   },
   "outputs": [],
   "source": [
    "import pandas as pd"
   ]
  },
  {
   "cell_type": "code",
   "execution_count": 21,
   "metadata": {
    "collapsed": true
   },
   "outputs": [],
   "source": [
    "df = pd.read_csv('data/hapmap1.map', delim_whitespace=True, header=None)"
   ]
  },
  {
   "cell_type": "code",
   "execution_count": 33,
   "metadata": {
    "collapsed": false
   },
   "outputs": [
    {
     "data": {
      "text/html": [
       "<div>\n",
       "<table border=\"1\" class=\"dataframe\">\n",
       "  <thead>\n",
       "    <tr style=\"text-align: right;\">\n",
       "      <th></th>\n",
       "      <th>0</th>\n",
       "      <th>1</th>\n",
       "      <th>2</th>\n",
       "      <th>3</th>\n",
       "    </tr>\n",
       "  </thead>\n",
       "  <tbody>\n",
       "    <tr>\n",
       "      <th>860</th>\n",
       "      <td>1</td>\n",
       "      <td>rs12045968</td>\n",
       "      <td>0</td>\n",
       "      <td>861</td>\n",
       "    </tr>\n",
       "    <tr>\n",
       "      <th>6265</th>\n",
       "      <td>1</td>\n",
       "      <td>rs967216</td>\n",
       "      <td>0</td>\n",
       "      <td>6266</td>\n",
       "    </tr>\n",
       "    <tr>\n",
       "      <th>15795</th>\n",
       "      <td>3</td>\n",
       "      <td>rs920160</td>\n",
       "      <td>0</td>\n",
       "      <td>15796</td>\n",
       "    </tr>\n",
       "    <tr>\n",
       "      <th>37194</th>\n",
       "      <td>7</td>\n",
       "      <td>rs4728546</td>\n",
       "      <td>0</td>\n",
       "      <td>37195</td>\n",
       "    </tr>\n",
       "    <tr>\n",
       "      <th>41090</th>\n",
       "      <td>8</td>\n",
       "      <td>rs2078280</td>\n",
       "      <td>0</td>\n",
       "      <td>41091</td>\n",
       "    </tr>\n",
       "    <tr>\n",
       "      <th>44131</th>\n",
       "      <td>8</td>\n",
       "      <td>rs6989791</td>\n",
       "      <td>0</td>\n",
       "      <td>44132</td>\n",
       "    </tr>\n",
       "    <tr>\n",
       "      <th>60263</th>\n",
       "      <td>12</td>\n",
       "      <td>rs1479019</td>\n",
       "      <td>0</td>\n",
       "      <td>60264</td>\n",
       "    </tr>\n",
       "    <tr>\n",
       "      <th>67221</th>\n",
       "      <td>14</td>\n",
       "      <td>rs1190539</td>\n",
       "      <td>0</td>\n",
       "      <td>67222</td>\n",
       "    </tr>\n",
       "    <tr>\n",
       "      <th>76820</th>\n",
       "      <td>18</td>\n",
       "      <td>rs1942455</td>\n",
       "      <td>0</td>\n",
       "      <td>76821</td>\n",
       "    </tr>\n",
       "    <tr>\n",
       "      <th>82386</th>\n",
       "      <td>22</td>\n",
       "      <td>rs1115764</td>\n",
       "      <td>0</td>\n",
       "      <td>82387</td>\n",
       "    </tr>\n",
       "  </tbody>\n",
       "</table>\n",
       "</div>"
      ],
      "text/plain": [
       "        0           1  2      3\n",
       "860     1  rs12045968  0    861\n",
       "6265    1    rs967216  0   6266\n",
       "15795   3    rs920160  0  15796\n",
       "37194   7   rs4728546  0  37195\n",
       "41090   8   rs2078280  0  41091\n",
       "44131   8   rs6989791  0  44132\n",
       "60263  12   rs1479019  0  60264\n",
       "67221  14   rs1190539  0  67222\n",
       "76820  18   rs1942455  0  76821\n",
       "82386  22   rs1115764  0  82387"
      ]
     },
     "execution_count": 33,
     "metadata": {},
     "output_type": "execute_result"
    }
   ],
   "source": [
    "df.iloc[causal_SNPs]"
   ]
  },
  {
   "cell_type": "code",
   "execution_count": 37,
   "metadata": {
    "collapsed": false
   },
   "outputs": [
    {
     "name": "stdout",
     "output_type": "stream",
     "text": [
      "['rs12045968' 'rs967216' 'rs920160' 'rs4728546' 'rs2078280' 'rs6989791'\n",
      " 'rs1479019' 'rs1190539' 'rs1942455' 'rs1115764']\n"
     ]
    }
   ],
   "source": [
    "causal_SNPs_names = df.iloc[causal_SNPs][1].values\n",
    "print causal_SNPs_names"
   ]
  },
  {
   "cell_type": "markdown",
   "metadata": {
    "collapsed": true
   },
   "source": [
    "# Manipulate PLINK output"
   ]
  },
  {
   "cell_type": "code",
   "execution_count": 141,
   "metadata": {
    "collapsed": true
   },
   "outputs": [],
   "source": [
    "import pandas as pd"
   ]
  },
  {
   "cell_type": "code",
   "execution_count": 38,
   "metadata": {
    "collapsed": false
   },
   "outputs": [],
   "source": [
    "df = pd.read_csv('data/assoc1.assoc', # File name\n",
    "                 delim_whitespace=True) # Use any white space as delimiter"
   ]
  },
  {
   "cell_type": "code",
   "execution_count": 39,
   "metadata": {
    "collapsed": false
   },
   "outputs": [
    {
     "name": "stdout",
     "output_type": "stream",
     "text": [
      "       CHR         SNP     BP  A1      F_A      F_U  A2  CHISQ             P  \\\n",
      "639      1  rs12045968    861   1  0.45240  0.11700   2  25.01  5.712000e-07   \n",
      "53018   14   rs1190539  67222   1  0.17860  0.00000   2  18.33  1.857000e-05   \n",
      "638      1   rs3851890    860   1  0.47620  0.18090   2  17.78  2.486000e-05   \n",
      "637      1    rs676628    858   1  0.47620  0.19150   2  16.37  5.216000e-05   \n",
      "5169     1   rs6657743   6707   1  0.16670  0.43480   2  14.84  1.169000e-04   \n",
      "5887     2   rs1275925   7627   1  0.03571  0.23400   2  14.45  1.437000e-04   \n",
      "42145   10   rs1172480  53229   1  0.33330  0.61700   2  14.30  1.562000e-04   \n",
      "44792   11   rs6592035  56619   2  0.19050  0.45740   1  14.27  1.586000e-04   \n",
      "10141    2   rs6747756  13100   1  0.16670  0.01064   2  13.99  1.834000e-04   \n",
      "10368    2   rs1474258  13409   1  0.25000  0.05319   2  13.78  2.060000e-04   \n",
      "18814    4  rs11100479  24195   1  0.10710  0.34040   2  13.62  2.241000e-04   \n",
      "42144   10    rs756030  53228   1  0.32140  0.59570   2  13.41  2.499000e-04   \n",
      "60387   18  rs10514040  76784   1  0.11900  0.35110   2  13.03  3.060000e-04   \n",
      "50846   13   rs2699316  64417   1  0.58540  0.31520   2  12.83  3.418000e-04   \n",
      "7706     2   rs6757258   9884   1  0.07143  0.27660   2  12.66  3.729000e-04   \n",
      "60381   18   rs2129588  76777   1  0.10710  0.32980   2  12.62  3.813000e-04   \n",
      "41820   10  rs11594887  52831   1  0.21950  0.04255   2  12.54  3.986000e-04   \n",
      "60247   18   rs1382129  76598   1  0.02381  0.19150   2  12.51  4.058000e-04   \n",
      "19143    4   rs3849596  24623   1  0.50000  0.24470   2  12.47  4.127000e-04   \n",
      "26266    6   rs6922009  33532   1  0.19050  0.43620   2  12.30  4.526000e-04   \n",
      "\n",
      "            OR  \n",
      "639     6.2330  \n",
      "53018      NaN  \n",
      "638     4.1180  \n",
      "637     3.8380  \n",
      "5169    0.2600  \n",
      "5887    0.1212  \n",
      "42145   0.3103  \n",
      "44792   0.2791  \n",
      "10141  18.6000  \n",
      "10368   5.9330  \n",
      "18814   0.2325  \n",
      "42144   0.3214  \n",
      "60387   0.2498  \n",
      "50846   3.0670  \n",
      "7706    0.2012  \n",
      "60381   0.2439  \n",
      "41820   6.3280  \n",
      "60247   0.1030  \n",
      "19143   3.0870  \n",
      "26266   0.3042  \n"
     ]
    }
   ],
   "source": [
    "# sort df by p-value\n",
    "df_sorted = df.sort_values('P')\n",
    "print df_sorted[:20]"
   ]
  },
  {
   "cell_type": "markdown",
   "metadata": {},
   "source": [
    "## Scores for causal SNPs"
   ]
  },
  {
   "cell_type": "code",
   "execution_count": 43,
   "metadata": {
    "collapsed": false
   },
   "outputs": [
    {
     "data": {
      "text/html": [
       "<div>\n",
       "<table border=\"1\" class=\"dataframe\">\n",
       "  <thead>\n",
       "    <tr style=\"text-align: right;\">\n",
       "      <th></th>\n",
       "      <th>CHR</th>\n",
       "      <th>SNP</th>\n",
       "      <th>BP</th>\n",
       "      <th>A1</th>\n",
       "      <th>F_A</th>\n",
       "      <th>F_U</th>\n",
       "      <th>A2</th>\n",
       "      <th>CHISQ</th>\n",
       "      <th>P</th>\n",
       "      <th>OR</th>\n",
       "    </tr>\n",
       "  </thead>\n",
       "  <tbody>\n",
       "    <tr>\n",
       "      <th>639</th>\n",
       "      <td>1</td>\n",
       "      <td>rs12045968</td>\n",
       "      <td>861</td>\n",
       "      <td>1</td>\n",
       "      <td>0.45240</td>\n",
       "      <td>0.11700</td>\n",
       "      <td>2</td>\n",
       "      <td>25.01000</td>\n",
       "      <td>5.712000e-07</td>\n",
       "      <td>6.2330</td>\n",
       "    </tr>\n",
       "    <tr>\n",
       "      <th>4825</th>\n",
       "      <td>1</td>\n",
       "      <td>rs967216</td>\n",
       "      <td>6266</td>\n",
       "      <td>1</td>\n",
       "      <td>0.00000</td>\n",
       "      <td>0.02128</td>\n",
       "      <td>2</td>\n",
       "      <td>1.80800</td>\n",
       "      <td>1.788000e-01</td>\n",
       "      <td>0.0000</td>\n",
       "    </tr>\n",
       "    <tr>\n",
       "      <th>12143</th>\n",
       "      <td>3</td>\n",
       "      <td>rs920160</td>\n",
       "      <td>15796</td>\n",
       "      <td>1</td>\n",
       "      <td>0.45240</td>\n",
       "      <td>0.39360</td>\n",
       "      <td>2</td>\n",
       "      <td>0.62830</td>\n",
       "      <td>4.280000e-01</td>\n",
       "      <td>1.2730</td>\n",
       "    </tr>\n",
       "    <tr>\n",
       "      <th>34704</th>\n",
       "      <td>8</td>\n",
       "      <td>rs6989791</td>\n",
       "      <td>44132</td>\n",
       "      <td>2</td>\n",
       "      <td>0.40480</td>\n",
       "      <td>0.43620</td>\n",
       "      <td>1</td>\n",
       "      <td>0.17950</td>\n",
       "      <td>6.718000e-01</td>\n",
       "      <td>0.8790</td>\n",
       "    </tr>\n",
       "    <tr>\n",
       "      <th>47671</th>\n",
       "      <td>12</td>\n",
       "      <td>rs1479019</td>\n",
       "      <td>60264</td>\n",
       "      <td>1</td>\n",
       "      <td>0.17860</td>\n",
       "      <td>0.19150</td>\n",
       "      <td>2</td>\n",
       "      <td>0.04902</td>\n",
       "      <td>8.248000e-01</td>\n",
       "      <td>0.9179</td>\n",
       "    </tr>\n",
       "    <tr>\n",
       "      <th>53018</th>\n",
       "      <td>14</td>\n",
       "      <td>rs1190539</td>\n",
       "      <td>67222</td>\n",
       "      <td>1</td>\n",
       "      <td>0.17860</td>\n",
       "      <td>0.00000</td>\n",
       "      <td>2</td>\n",
       "      <td>18.33000</td>\n",
       "      <td>1.857000e-05</td>\n",
       "      <td>NaN</td>\n",
       "    </tr>\n",
       "    <tr>\n",
       "      <th>60419</th>\n",
       "      <td>18</td>\n",
       "      <td>rs1942455</td>\n",
       "      <td>76821</td>\n",
       "      <td>1</td>\n",
       "      <td>0.08333</td>\n",
       "      <td>0.01064</td>\n",
       "      <td>2</td>\n",
       "      <td>5.46100</td>\n",
       "      <td>1.944000e-02</td>\n",
       "      <td>8.4550</td>\n",
       "    </tr>\n",
       "    <tr>\n",
       "      <th>64863</th>\n",
       "      <td>22</td>\n",
       "      <td>rs1115764</td>\n",
       "      <td>82387</td>\n",
       "      <td>1</td>\n",
       "      <td>0.00000</td>\n",
       "      <td>0.07447</td>\n",
       "      <td>2</td>\n",
       "      <td>6.51100</td>\n",
       "      <td>1.072000e-02</td>\n",
       "      <td>0.0000</td>\n",
       "    </tr>\n",
       "  </tbody>\n",
       "</table>\n",
       "</div>"
      ],
      "text/plain": [
       "       CHR         SNP     BP  A1      F_A      F_U  A2     CHISQ  \\\n",
       "639      1  rs12045968    861   1  0.45240  0.11700   2  25.01000   \n",
       "4825     1    rs967216   6266   1  0.00000  0.02128   2   1.80800   \n",
       "12143    3    rs920160  15796   1  0.45240  0.39360   2   0.62830   \n",
       "34704    8   rs6989791  44132   2  0.40480  0.43620   1   0.17950   \n",
       "47671   12   rs1479019  60264   1  0.17860  0.19150   2   0.04902   \n",
       "53018   14   rs1190539  67222   1  0.17860  0.00000   2  18.33000   \n",
       "60419   18   rs1942455  76821   1  0.08333  0.01064   2   5.46100   \n",
       "64863   22   rs1115764  82387   1  0.00000  0.07447   2   6.51100   \n",
       "\n",
       "                  P      OR  \n",
       "639    5.712000e-07  6.2330  \n",
       "4825   1.788000e-01  0.0000  \n",
       "12143  4.280000e-01  1.2730  \n",
       "34704  6.718000e-01  0.8790  \n",
       "47671  8.248000e-01  0.9179  \n",
       "53018  1.857000e-05     NaN  \n",
       "60419  1.944000e-02  8.4550  \n",
       "64863  1.072000e-02  0.0000  "
      ]
     },
     "execution_count": 43,
     "metadata": {},
     "output_type": "execute_result"
    }
   ],
   "source": [
    "snp = causal_SNPs_names[0]\n",
    "df.loc[df['SNP'].isin(causal_SNPs_names)]"
   ]
  },
  {
   "cell_type": "markdown",
   "metadata": {},
   "source": [
    "## Manhattan plot"
   ]
  },
  {
   "cell_type": "code",
   "execution_count": 45,
   "metadata": {
    "collapsed": false
   },
   "outputs": [
    {
     "data": {
      "text/plain": [
       "[<matplotlib.lines.Line2D at 0x7f52098d4750>]"
      ]
     },
     "execution_count": 45,
     "metadata": {},
     "output_type": "execute_result"
    },
    {
     "data": {
      "image/png": "[encoded data removed]",
      "text/plain": [
       "<matplotlib.figure.Figure at 0x7f52088c0c10>"
      ]
     },
     "metadata": {},
     "output_type": "display_data"
    }
   ],
   "source": [
    "plt.scatter(df.BP, # x = SNP position\n",
    "            -np.log10(df.P), # y = -log10 p-value (the higher the more significant)\n",
    "            c=df.CHR) # color by chromosome\n",
    "\n",
    "# Plot the causal SNPs in red\n",
    "plt.scatter(df.BP[df['SNP'].isin(causal_SNPs_names)], \n",
    "            -np.log10(df.P[df['SNP'].isin(causal_SNPs_names)]),\n",
    "                     color='red')\n",
    "\n",
    "# significance threshold according to Bonferroni correction\n",
    "t = -np.log10(0.05/df.shape[0])\n",
    "plt.plot([0, max(df.BP)], [t, t], lw=2)"
   ]
  },
  {
   "cell_type": "code",
   "execution_count": 169,
   "metadata": {
    "collapsed": false
   },
   "outputs": [
    {
     "data": {
      "text/plain": [
       "5.7119999999999993e-07"
      ]
     },
     "execution_count": 169,
     "metadata": {},
     "output_type": "execute_result"
    }
   ],
   "source": [
    "# One significant SNP\n",
    "print min(df.P)"
   ]
  },
  {
   "cell_type": "markdown",
   "metadata": {},
   "source": [
    "## Q-Q plot"
   ]
  },
  {
   "cell_type": "code",
   "execution_count": 178,
   "metadata": {
    "collapsed": true
   },
   "outputs": [],
   "source": [
    "import scipy.stats as ss"
   ]
  },
  {
   "cell_type": "code",
   "execution_count": 180,
   "metadata": {
    "collapsed": false
   },
   "outputs": [
    {
     "data": {
      "image/png": "[encoded data removed]",
      "text/plain": [
       "<matplotlib.figure.Figure at 0x7f2fb8bbe990>"
      ]
     },
     "metadata": {},
     "output_type": "display_data"
    }
   ],
   "source": [
    "ss.probplot(df.P, dist=\"uniform\", plot=pylab)\n",
    "plt.show()"
   ]
  },
  {
   "cell_type": "code",
   "execution_count": 184,
   "metadata": {
    "collapsed": false
   },
   "outputs": [
    {
     "data": {
      "text/plain": [
       "0.73260000000000003"
      ]
     },
     "execution_count": 184,
     "metadata": {},
     "output_type": "execute_result"
    }
   ],
   "source": [
    "df.P[0]"
   ]
  },
  {
   "cell_type": "markdown",
   "metadata": {
    "collapsed": true
   },
   "source": [
    "## Does the associated SNP separate cases from controls"
   ]
  },
  {
   "cell_type": "markdown",
   "metadata": {},
   "source": [
    "## Load data for ML"
   ]
  },
  {
   "cell_type": "code",
   "execution_count": 46,
   "metadata": {
    "collapsed": true
   },
   "outputs": [],
   "source": [
    "df = pd.read_csv('data/mydata1.raw', delim_whitespace=True)"
   ]
  },
  {
   "cell_type": "code",
   "execution_count": 50,
   "metadata": {
    "collapsed": false
   },
   "outputs": [],
   "source": [
    "y = df.PHENOTYPE.values"
   ]
  },
  {
   "cell_type": "code",
   "execution_count": 66,
   "metadata": {
    "collapsed": true
   },
   "outputs": [],
   "source": [
    "# Replace missing values with zeros (don't do this in real life)\n",
    "df.fillna(0, inplace=True)"
   ]
  },
  {
   "cell_type": "code",
   "execution_count": 67,
   "metadata": {
    "collapsed": false
   },
   "outputs": [],
   "source": [
    "X = df.iloc[:, 6:].values"
   ]
  },
  {
   "cell_type": "code",
   "execution_count": 68,
   "metadata": {
    "collapsed": false
   },
   "outputs": [
    {
     "data": {
      "text/plain": [
       "(89, 65803)"
      ]
     },
     "execution_count": 68,
     "metadata": {},
     "output_type": "execute_result"
    }
   ],
   "source": [
    "X.shape"
   ]
  },
  {
   "cell_type": "code",
   "execution_count": 69,
   "metadata": {
    "collapsed": false
   },
   "outputs": [
    {
     "data": {
      "text/plain": [
       "(89,)"
      ]
     },
     "execution_count": 69,
     "metadata": {},
     "output_type": "execute_result"
    }
   ],
   "source": [
    "y.shape"
   ]
  },
  {
   "cell_type": "markdown",
   "metadata": {},
   "source": [
    "## Lasso (no cross-validation)"
   ]
  },
  {
   "cell_type": "code",
   "execution_count": 60,
   "metadata": {
    "collapsed": true
   },
   "outputs": [],
   "source": [
    "from sklearn import linear_model"
   ]
  },
  {
   "cell_type": "code",
   "execution_count": 81,
   "metadata": {
    "collapsed": true
   },
   "outputs": [],
   "source": [
    "lasso = linear_model.Lasso(alpha=0.1)"
   ]
  },
  {
   "cell_type": "code",
   "execution_count": 82,
   "metadata": {
    "collapsed": false
   },
   "outputs": [
    {
     "data": {
      "text/plain": [
       "Lasso(alpha=0.1, copy_X=True, fit_intercept=True, max_iter=1000,\n",
       "   normalize=False, positive=False, precompute=False, random_state=None,\n",
       "   selection='cyclic', tol=0.0001, warm_start=False)"
      ]
     },
     "execution_count": 82,
     "metadata": {},
     "output_type": "execute_result"
    }
   ],
   "source": [
    "lasso.fit(X, y)"
   ]
  },
  {
   "cell_type": "code",
   "execution_count": 94,
   "metadata": {
    "collapsed": false
   },
   "outputs": [
    {
     "data": {
      "text/plain": [
       "(65803,)"
      ]
     },
     "execution_count": 94,
     "metadata": {},
     "output_type": "execute_result"
    }
   ],
   "source": [
    "lasso.coef_.shape"
   ]
  },
  {
   "cell_type": "code",
   "execution_count": 95,
   "metadata": {
    "collapsed": false
   },
   "outputs": [
    {
     "name": "stdout",
     "output_type": "stream",
     "text": [
      "[  639  5169 10561 11500 18559 19143 29860 31780 42145 43279 44792 48914\n",
      " 50846 51849 57450 61895]\n"
     ]
    }
   ],
   "source": [
    "print np.where(lasso.coef_)[0]"
   ]
  },
  {
   "cell_type": "code",
   "execution_count": 92,
   "metadata": {
    "collapsed": false
   },
   "outputs": [
    {
     "name": "stdout",
     "output_type": "stream",
     "text": [
      "[645, 4831, 12149, 47677, 53024, 60425, 64869]\n"
     ]
    }
   ],
   "source": [
    "#causal_SNPs_indices = [df.columns.get_loc('%s_1' % snp) for snp in causal_SNPs_names]\n",
    "causal_SNPs_indices = []\n",
    "for snp in causal_SNPs_names:\n",
    "    try:\n",
    "        causal_SNPs_indices.append(df.columns.get_loc('%s_1' % snp))\n",
    "    except KeyError:\n",
    "        continue\n",
    "print causal_SNPs_indices"
   ]
  },
  {
   "cell_type": "code",
   "execution_count": 93,
   "metadata": {
    "collapsed": false
   },
   "outputs": [
    {
     "data": {
      "text/plain": [
       "<matplotlib.collections.PathCollection at 0x7f51fda89310>"
      ]
     },
     "execution_count": 93,
     "metadata": {},
     "output_type": "execute_result"
    },
    {
     "data": {
      "image/png": "[encoded data removed]",
      "text/plain": [
       "<matplotlib.figure.Figure at 0x7f51f5469410>"
      ]
     },
     "metadata": {},
     "output_type": "display_data"
    }
   ],
   "source": [
    "plt.scatter(range(lasso.coef_.shape[0]), # x = SNP position\n",
    "            lasso.coef_, # y = SNP weight (the higher the more important)\n",
    "            )\n",
    "\n",
    "# Plot the causal SNPs in red\n",
    "plt.scatter(causal_SNPs_indices, \n",
    "            lasso.coef_[causal_SNPs_indices],\n",
    "                     color='red')"
   ]
  },
  {
   "cell_type": "code",
   "execution_count": null,
   "metadata": {
    "collapsed": true
   },
   "outputs": [],
   "source": []
  }
 ],
 "metadata": {
  "kernelspec": {
   "display_name": "Python 2",
   "language": "python",
   "name": "python2"
  },
  "language_info": {
   "codemirror_mode": {
    "name": "ipython",
    "version": 2
   },
   "file_extension": ".py",
   "mimetype": "text/x-python",
   "name": "python",
   "nbconvert_exporter": "python",
   "pygments_lexer": "ipython2",
   "version": "2.7.6"
  }
 },
 "nbformat": 4,
 "nbformat_minor": 0
}
